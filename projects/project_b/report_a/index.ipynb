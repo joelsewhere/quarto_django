{
 "cells": [
  {
   "attachments": {},
   "cell_type": "markdown",
   "metadata": {},
   "source": [
    "---\n",
    "author: Jo-L Collins\n",
    "date: \"2023-06-15\"\n",
    "---"
   ]
  },
  {
   "attachments": {},
   "cell_type": "markdown",
   "metadata": {},
   "source": [
    "# Notebook Example"
   ]
  },
  {
   "cell_type": "code",
   "execution_count": null,
   "metadata": {
    "vscode": {
     "languageId": "plaintext"
    }
   },
   "outputs": [],
   "source": [
    "print('Hello World')"
   ]
  },
  {
   "cell_type": "code",
   "execution_count": null,
   "metadata": {
    "vscode": {
     "languageId": "plaintext"
    }
   },
   "outputs": [],
   "source": []
  },
  {
   "attachments": {},
   "cell_type": "markdown",
   "id": "f81ec9f6",
   "metadata": {},
   "source": [
    "\n",
    "```{=html}\n",
    "<script src=\"https://unpkg.com/@lyket/widget@latest/dist/lyket.js?apiKey=pt_00afa5bb7b98182c1dfaff75311c5e\"></script>\n",
    "<div\n",
    "  data-lyket-type=\"clap\"\n",
    "  data-lyket-id=\"delivery__time_to_completion\"\n",
    "  data-lyket-namespace=\"irondata\"\n",
    "></div>\n",
    "```"
   ]
  }
 ],
 "metadata": {
  "language_info": {
   "name": "python"
  }
 },
 "nbformat": 4,
 "nbformat_minor": 2
}
