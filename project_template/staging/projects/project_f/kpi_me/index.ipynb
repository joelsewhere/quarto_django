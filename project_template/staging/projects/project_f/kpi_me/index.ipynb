{
 "cells": [
  {
   "cell_type": "markdown",
   "id": "356a1428",
   "metadata": {},
   "source": [
    "---\n",
    "author: She's A Writer\n",
    "title: A New KPI! 😭\n",
    "---"
   ]
  },
  {
   "cell_type": "code",
   "execution_count": null,
   "id": "bfd40d42",
   "metadata": {
    "vscode": {
     "languageId": "plaintext"
    }
   },
   "outputs": [],
   "source": []
  }
 ],
 "metadata": {
  "kernelspec": {
   "display_name": "Irondata 2.4",
   "language": "python",
   "name": "irondata2.4"
  },
  "language_info": {
   "codemirror_mode": {
    "name": "ipython",
    "version": 3
   },
   "file_extension": ".py",
   "mimetype": "text/x-python",
   "name": "python",
   "nbconvert_exporter": "python",
   "pygments_lexer": "ipython3",
   "version": "3.10.10"
  }
 },
 "nbformat": 4,
 "nbformat_minor": 5
}
