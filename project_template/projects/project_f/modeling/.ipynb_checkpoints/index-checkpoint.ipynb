{
 "cells": [
  {
   "cell_type": "markdown",
   "id": "cdb4cd50-474c-45f6-b1d1-8aae40d0735f",
   "metadata": {},
   "source": [
    "# Application Scoring Model"
   ]
  }
 ],
 "metadata": {
  "kernelspec": {
   "display_name": "Irondata 2.4",
   "language": "python",
   "name": "irondata2.4"
  },
  "language_info": {
   "codemirror_mode": {
    "name": "ipython",
    "version": 3
   },
   "file_extension": ".py",
   "mimetype": "text/x-python",
   "name": "python",
   "nbconvert_exporter": "python",
   "pygments_lexer": "ipython3",
   "version": "3.10.10"
  }
 },
 "nbformat": 4,
 "nbformat_minor": 5
}
